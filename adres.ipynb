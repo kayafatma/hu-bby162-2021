{
  "nbformat": 4,
  "nbformat_minor": 0,
  "metadata": {
    "colab": {
      "name": "adres.ipynb",
      "provenance": [],
      "mount_file_id": "1rvuyD-P3UrVzWoDA5eK_Nc5ZwhjEUIUv",
      "authorship_tag": "ABX9TyNlMPluuMBdcqoQDzm1UGwp",
      "include_colab_link": true
    },
    "kernelspec": {
      "name": "python3",
      "display_name": "Python 3"
    },
    "language_info": {
      "name": "python"
    }
  },
  "cells": [
    {
      "cell_type": "markdown",
      "metadata": {
        "id": "view-in-github",
        "colab_type": "text"
      },
      "source": [
        "<a href=\"https://colab.research.google.com/github/kayafatma/hu-bby162-2021/blob/main/adres.ipynb\" target=\"_parent\"><img src=\"https://colab.research.google.com/assets/colab-badge.svg\" alt=\"Open In Colab\"/></a>"
      ]
    },
    {
      "cell_type": "code",
      "metadata": {
        "colab": {
          "base_uri": "https://localhost:8080/"
        },
        "id": "G_4UtuCRDPWU",
        "outputId": "9e951171-5b03-4aa3-ea43-3dd86f3e78d8"
      },
      "source": [
        "adres = \"/content/drive/MyDrive/adres.txt\"\n",
        "\n",
        "f = open(adres, \"a\")\n",
        "\n",
        "BirinciBilgi = input(\"Ad: \")\n",
        "İkinciBilgi = input(\"Soyadı: \")\n",
        "ÜçüncüBilgi = input(\"e-Posta: \")\n",
        "\n",
        "\n",
        "f.write(BirinciBilgi+ \" \" + İkinciBilgi+ \" \" + ÜçüncüBilgi+ \" \" + \"\\n\")\n",
        "\n",
        "f.close()\n",
        "\n",
        "f = open(adres, \"r\")\n",
        "for line in f.readlines():\n",
        "    print(line)\n",
        "f.close()\n"
      ],
      "execution_count": 1,
      "outputs": [
        {
          "output_type": "stream",
          "text": [
            "Ad: fatma\n",
            "Soyadı: kaya\n",
            "e-Posta: fattttoky.55@gmail.com\n",
            "\n",
            "\n",
            "fatma kaya fattttoky.55@gmail.com \n",
            "\n"
          ],
          "name": "stdout"
        }
      ]
    }
  ]
}