{
  "nbformat": 4,
  "nbformat_minor": 0,
  "metadata": {
    "colab": {
      "name": "final.ipynb",
      "provenance": [],
      "mount_file_id": "1st8_lt8r_hq5PYLByp-ISAMYikradkgA",
      "authorship_tag": "ABX9TyP35fnUnWdYwt7HJx8rhQ3b",
      "include_colab_link": true
    },
    "kernelspec": {
      "name": "python3",
      "display_name": "Python 3"
    },
    "language_info": {
      "name": "python"
    }
  },
  "cells": [
    {
      "cell_type": "markdown",
      "metadata": {
        "id": "view-in-github",
        "colab_type": "text"
      },
      "source": [
        "<a href=\"https://colab.research.google.com/github/kayafatma/hu-bby162-2021/blob/main/final.ipynb\" target=\"_parent\"><img src=\"https://colab.research.google.com/assets/colab-badge.svg\" alt=\"Open In Colab\"/></a>"
      ]
    },
    {
      "cell_type": "code",
      "metadata": {
        "colab": {
          "base_uri": "https://localhost:8080/"
        },
        "id": "0xveBr-C0wSR",
        "outputId": "d8f4e4e8-27d3-4b8f-e9a6-0ce23007570e"
      },
      "source": [
        "#Kütüphane Otomasyonu\n",
        "#Veri tabanı: /content/drive/MyDrive/Colab Notebooks/final.txt\n",
        "\n",
        "dosya =  \"/content/drive/MyDrive/Colab Notebooks/final.txt\"\n",
        "def eserListesi():\n",
        "  dosya =  \"/content/drive/MyDrive/Colab Notebooks/final.txt\"\n",
        "  f = open(dosya, \"r\") \n",
        "\n",
        "  for line in f.readlines():\n",
        "      print(line)\n",
        "\n",
        "  f.close()\n",
        "\n",
        "\n",
        "\n",
        "def eserKaydet():\n",
        "  ad = input(\" Eser adı giriniz: \")\n",
        "  yazar = input(\" Yazar adı giriniz: \")\n",
        "  yayın = input(\" Yayınevi giriniz: \")\n",
        "  basım = input(\" Basım tarihi giriniz: \")\n",
        "  Isbn = input(\" ISBN numarası giriniz: \")\n",
        "\n",
        "  dosya = \"/content/drive/MyDrive/Colab Notebooks/final.txt\"\n",
        "  f = open(dosya, 'a') \n",
        "  f.write(ad+ \",\" +yazar+ \".\" +yayın+ \",\" +basım+ \",\" +Isbn+ \"\\n\")\n",
        "  f.close()\n",
        "\n",
        "  \n",
        "\n",
        "def menu():\n",
        "  print(\" - Kütüphane Kataloğunuz -\")\n",
        "  while True:\n",
        "    print(\" 1- Çıkıs Yapınız.\")\n",
        "    print(\" 2- Eserleri Sıralıyın Lütfen\")\n",
        "    print(\" 3- Yeni Eserinizi Kayıt Edin Lütfen\")\n",
        "    islem = input(\" Yapmak istediğiniz işlemi seçin lütfen (1/3): \")\n",
        "    if islem == \"1\":\n",
        "      print(\" Çıkış yaptınız kütüphane kataloğumuzu incelediğiniz için teşekkürler\")\n",
        "      break\n",
        "    elif islem == \"2\":\n",
        "      eserListesi()\n",
        "    elif islem == \"3\":\n",
        "      eserKaydet()\n",
        "      \n",
        "menu() \n"
      ],
      "execution_count": 7,
      "outputs": [
        {
          "output_type": "stream",
          "text": [
            " - Kütüphane Kataloğunuz -\n",
            " 1- Çıkıs Yapınız.\n",
            " 2- Eserleri Sıralıyın Lütfen\n",
            " 3- Yeni Eserinizi Kayıt Edin Lütfen\n",
            " Yapmak istediğiniz işlemi seçin lütfen (1/3): 2\n",
            "Sessizlik, Fatma Kaya, Kaya Yayınevi, 2001, 55873446608\n",
            "\n",
            "Susuz, Yaren Taş, Taş Yayınevi, 125486932\n",
            "\n",
            "Yeşil Yol, Murat Aktaş, Aktaş Yayınevi, 1958, 567415465322\n",
            "\n",
            "Zeliş, Melek Gür, Gür Yayınevi, 2008, 4579921363\n",
            "\n",
            "Aşk Karası, Mustafa Sarı, Sarı Yayınevi, 2000, 86526232646\n",
            "\n",
            "Paramparça, Salih Kaya, Kaya Yayınevi, 1999, 149843216546\n",
            "\n",
            "Aşk, Şeyma Altın, Altın Yayınevi, 2005, 6549841231652\n",
            "\n",
            "Memleketim, Ceren Yumuşak, Yumuşak Yayınevi, 1987, 54156462022\n",
            "\n",
            "Aysel, Neslihan Gürbüz, Gürbüz Yayınevi, 2007, 55495232666\n",
            "\n",
            "Ak Yıldız, Esin Ala, Ala Yayınevi, 2010, 6574651654626\n",
            "\n",
            "Dolunay, Ayşe Uygun, Uygun Yayınevi, 2011, 565962645454\n",
            "\n",
            "Hayatı Sorgulayan Adam, Utku Özgür Demirhan, Adam Yayınevi, 2021, 25654956265\n",
            "\n",
            "Kar Zamanı, Gamze Kar, Kar Yayınevi, 2000, 5646564654546\n",
            "\n",
            "Sensiz, Ömer Bor,Bor Yayınevi, 2020, 468231526\n",
            "\n",
            "Çanakkale, Bahtiyar Sade, Sade Yayınevi, 1878, 549895265595\n",
            "\n",
            "kar tanesi,melek şal.şal yayınevi,2000,5879412563\n",
            "\n",
            " 1- Çıkıs Yapınız.\n",
            " 2- Eserleri Sıralıyın Lütfen\n",
            " 3- Yeni Eserinizi Kayıt Edin Lütfen\n",
            " Yapmak istediğiniz işlemi seçin lütfen (1/3): 1\n",
            " Çıkış yaptınız kütüphane kataloğumuzu incelediğiniz için teşekkürler\n"
          ],
          "name": "stdout"
        }
      ]
    }
  ]
}